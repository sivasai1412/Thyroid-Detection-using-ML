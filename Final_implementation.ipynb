{
 "cells": [
  {
   "cell_type": "code",
   "execution_count": 1,
   "id": "8d1c2eb2",
   "metadata": {},
   "outputs": [],
   "source": [
    "import numpy as np\n",
    "import pandas as pd"
   ]
  },
  {
   "cell_type": "code",
   "execution_count": 2,
   "id": "a531359f",
   "metadata": {},
   "outputs": [],
   "source": [
    "df = pd.read_csv('hypothyroid.csv')"
   ]
  },
  {
   "cell_type": "code",
   "execution_count": 3,
   "id": "e5034b8d",
   "metadata": {},
   "outputs": [
    {
     "data": {
      "text/html": [
       "<div>\n",
       "<style scoped>\n",
       "    .dataframe tbody tr th:only-of-type {\n",
       "        vertical-align: middle;\n",
       "    }\n",
       "\n",
       "    .dataframe tbody tr th {\n",
       "        vertical-align: top;\n",
       "    }\n",
       "\n",
       "    .dataframe thead th {\n",
       "        text-align: right;\n",
       "    }\n",
       "</style>\n",
       "<table border=\"1\" class=\"dataframe\">\n",
       "  <thead>\n",
       "    <tr style=\"text-align: right;\">\n",
       "      <th></th>\n",
       "      <th>age</th>\n",
       "      <th>sex</th>\n",
       "      <th>on thyroxine</th>\n",
       "      <th>query on thyroxine</th>\n",
       "      <th>on antithyroid medication</th>\n",
       "      <th>sick</th>\n",
       "      <th>pregnant</th>\n",
       "      <th>thyroid surgery</th>\n",
       "      <th>I131 treatment</th>\n",
       "      <th>query hypothyroid</th>\n",
       "      <th>...</th>\n",
       "      <th>TT4 measured</th>\n",
       "      <th>TT4</th>\n",
       "      <th>T4U measured</th>\n",
       "      <th>T4U</th>\n",
       "      <th>FTI measured</th>\n",
       "      <th>FTI</th>\n",
       "      <th>TBG measured</th>\n",
       "      <th>TBG</th>\n",
       "      <th>referral source</th>\n",
       "      <th>binaryClass</th>\n",
       "    </tr>\n",
       "  </thead>\n",
       "  <tbody>\n",
       "    <tr>\n",
       "      <th>0</th>\n",
       "      <td>41</td>\n",
       "      <td>F</td>\n",
       "      <td>f</td>\n",
       "      <td>f</td>\n",
       "      <td>f</td>\n",
       "      <td>f</td>\n",
       "      <td>f</td>\n",
       "      <td>f</td>\n",
       "      <td>f</td>\n",
       "      <td>f</td>\n",
       "      <td>...</td>\n",
       "      <td>t</td>\n",
       "      <td>125</td>\n",
       "      <td>t</td>\n",
       "      <td>1.14</td>\n",
       "      <td>t</td>\n",
       "      <td>109</td>\n",
       "      <td>f</td>\n",
       "      <td>?</td>\n",
       "      <td>SVHC</td>\n",
       "      <td>P</td>\n",
       "    </tr>\n",
       "    <tr>\n",
       "      <th>1</th>\n",
       "      <td>23</td>\n",
       "      <td>F</td>\n",
       "      <td>f</td>\n",
       "      <td>f</td>\n",
       "      <td>f</td>\n",
       "      <td>f</td>\n",
       "      <td>f</td>\n",
       "      <td>f</td>\n",
       "      <td>f</td>\n",
       "      <td>f</td>\n",
       "      <td>...</td>\n",
       "      <td>t</td>\n",
       "      <td>102</td>\n",
       "      <td>f</td>\n",
       "      <td>?</td>\n",
       "      <td>f</td>\n",
       "      <td>?</td>\n",
       "      <td>f</td>\n",
       "      <td>?</td>\n",
       "      <td>other</td>\n",
       "      <td>P</td>\n",
       "    </tr>\n",
       "    <tr>\n",
       "      <th>2</th>\n",
       "      <td>46</td>\n",
       "      <td>M</td>\n",
       "      <td>f</td>\n",
       "      <td>f</td>\n",
       "      <td>f</td>\n",
       "      <td>f</td>\n",
       "      <td>f</td>\n",
       "      <td>f</td>\n",
       "      <td>f</td>\n",
       "      <td>f</td>\n",
       "      <td>...</td>\n",
       "      <td>t</td>\n",
       "      <td>109</td>\n",
       "      <td>t</td>\n",
       "      <td>0.91</td>\n",
       "      <td>t</td>\n",
       "      <td>120</td>\n",
       "      <td>f</td>\n",
       "      <td>?</td>\n",
       "      <td>other</td>\n",
       "      <td>P</td>\n",
       "    </tr>\n",
       "    <tr>\n",
       "      <th>3</th>\n",
       "      <td>70</td>\n",
       "      <td>F</td>\n",
       "      <td>t</td>\n",
       "      <td>f</td>\n",
       "      <td>f</td>\n",
       "      <td>f</td>\n",
       "      <td>f</td>\n",
       "      <td>f</td>\n",
       "      <td>f</td>\n",
       "      <td>f</td>\n",
       "      <td>...</td>\n",
       "      <td>t</td>\n",
       "      <td>175</td>\n",
       "      <td>f</td>\n",
       "      <td>?</td>\n",
       "      <td>f</td>\n",
       "      <td>?</td>\n",
       "      <td>f</td>\n",
       "      <td>?</td>\n",
       "      <td>other</td>\n",
       "      <td>P</td>\n",
       "    </tr>\n",
       "    <tr>\n",
       "      <th>4</th>\n",
       "      <td>70</td>\n",
       "      <td>F</td>\n",
       "      <td>f</td>\n",
       "      <td>f</td>\n",
       "      <td>f</td>\n",
       "      <td>f</td>\n",
       "      <td>f</td>\n",
       "      <td>f</td>\n",
       "      <td>f</td>\n",
       "      <td>f</td>\n",
       "      <td>...</td>\n",
       "      <td>t</td>\n",
       "      <td>61</td>\n",
       "      <td>t</td>\n",
       "      <td>0.87</td>\n",
       "      <td>t</td>\n",
       "      <td>70</td>\n",
       "      <td>f</td>\n",
       "      <td>?</td>\n",
       "      <td>SVI</td>\n",
       "      <td>P</td>\n",
       "    </tr>\n",
       "  </tbody>\n",
       "</table>\n",
       "<p>5 rows × 30 columns</p>\n",
       "</div>"
      ],
      "text/plain": [
       "  age sex on thyroxine query on thyroxine on antithyroid medication sick  \\\n",
       "0  41   F            f                  f                         f    f   \n",
       "1  23   F            f                  f                         f    f   \n",
       "2  46   M            f                  f                         f    f   \n",
       "3  70   F            t                  f                         f    f   \n",
       "4  70   F            f                  f                         f    f   \n",
       "\n",
       "  pregnant thyroid surgery I131 treatment query hypothyroid  ... TT4 measured  \\\n",
       "0        f               f              f                 f  ...            t   \n",
       "1        f               f              f                 f  ...            t   \n",
       "2        f               f              f                 f  ...            t   \n",
       "3        f               f              f                 f  ...            t   \n",
       "4        f               f              f                 f  ...            t   \n",
       "\n",
       "   TT4 T4U measured   T4U FTI measured  FTI TBG measured TBG referral source  \\\n",
       "0  125            t  1.14            t  109            f   ?            SVHC   \n",
       "1  102            f     ?            f    ?            f   ?           other   \n",
       "2  109            t  0.91            t  120            f   ?           other   \n",
       "3  175            f     ?            f    ?            f   ?           other   \n",
       "4   61            t  0.87            t   70            f   ?             SVI   \n",
       "\n",
       "  binaryClass  \n",
       "0           P  \n",
       "1           P  \n",
       "2           P  \n",
       "3           P  \n",
       "4           P  \n",
       "\n",
       "[5 rows x 30 columns]"
      ]
     },
     "execution_count": 3,
     "metadata": {},
     "output_type": "execute_result"
    }
   ],
   "source": [
    "df.head()"
   ]
  },
  {
   "cell_type": "code",
   "execution_count": 4,
   "id": "c8e1ec86",
   "metadata": {},
   "outputs": [
    {
     "data": {
      "text/plain": [
       "age                          object\n",
       "sex                          object\n",
       "on thyroxine                 object\n",
       "query on thyroxine           object\n",
       "on antithyroid medication    object\n",
       "sick                         object\n",
       "pregnant                     object\n",
       "thyroid surgery              object\n",
       "I131 treatment               object\n",
       "query hypothyroid            object\n",
       "query hyperthyroid           object\n",
       "lithium                      object\n",
       "goitre                       object\n",
       "tumor                        object\n",
       "hypopituitary                object\n",
       "psych                        object\n",
       "TSH measured                 object\n",
       "TSH                          object\n",
       "T3 measured                  object\n",
       "T3                           object\n",
       "TT4 measured                 object\n",
       "TT4                          object\n",
       "T4U measured                 object\n",
       "T4U                          object\n",
       "FTI measured                 object\n",
       "FTI                          object\n",
       "TBG measured                 object\n",
       "TBG                          object\n",
       "referral source              object\n",
       "binaryClass                  object\n",
       "dtype: object"
      ]
     },
     "execution_count": 4,
     "metadata": {},
     "output_type": "execute_result"
    }
   ],
   "source": [
    "df.dtypes"
   ]
  },
  {
   "cell_type": "code",
   "execution_count": 5,
   "id": "45ab055d",
   "metadata": {},
   "outputs": [
    {
     "data": {
      "text/plain": [
       "61"
      ]
     },
     "execution_count": 5,
     "metadata": {},
     "output_type": "execute_result"
    }
   ],
   "source": [
    "df.duplicated().sum()"
   ]
  },
  {
   "cell_type": "code",
   "execution_count": 6,
   "id": "89ec2eee",
   "metadata": {},
   "outputs": [],
   "source": [
    "df.drop_duplicates(keep = False, inplace = True)"
   ]
  },
  {
   "cell_type": "code",
   "execution_count": 7,
   "id": "8f62db7e",
   "metadata": {},
   "outputs": [],
   "source": [
    "df = df.replace({\"?\" : np.NAN})"
   ]
  },
  {
   "cell_type": "code",
   "execution_count": 8,
   "id": "099e1829",
   "metadata": {},
   "outputs": [
    {
     "data": {
      "text/plain": [
       "age                             1\n",
       "sex                           148\n",
       "on thyroxine                    0\n",
       "query on thyroxine              0\n",
       "on antithyroid medication       0\n",
       "sick                            0\n",
       "pregnant                        0\n",
       "thyroid surgery                 0\n",
       "I131 treatment                  0\n",
       "query hypothyroid               0\n",
       "query hyperthyroid              0\n",
       "lithium                         0\n",
       "goitre                          0\n",
       "tumor                           0\n",
       "hypopituitary                   0\n",
       "psych                           0\n",
       "TSH measured                    0\n",
       "TSH                           277\n",
       "T3 measured                     0\n",
       "T3                            677\n",
       "TT4 measured                    0\n",
       "TT4                           139\n",
       "T4U measured                    0\n",
       "T4U                           295\n",
       "FTI measured                    0\n",
       "FTI                           293\n",
       "TBG measured                    0\n",
       "TBG                          3678\n",
       "referral source                 0\n",
       "binaryClass                     0\n",
       "dtype: int64"
      ]
     },
     "execution_count": 8,
     "metadata": {},
     "output_type": "execute_result"
    }
   ],
   "source": [
    "df.isnull().sum()"
   ]
  },
  {
   "cell_type": "code",
   "execution_count": 9,
   "id": "1754f183",
   "metadata": {},
   "outputs": [
    {
     "data": {
      "text/plain": [
       "(3678, 30)"
      ]
     },
     "execution_count": 9,
     "metadata": {},
     "output_type": "execute_result"
    }
   ],
   "source": [
    "df.shape"
   ]
  },
  {
   "cell_type": "code",
   "execution_count": 10,
   "id": "4b217ed3",
   "metadata": {},
   "outputs": [],
   "source": [
    "del df[\"TBG\"]"
   ]
  },
  {
   "cell_type": "code",
   "execution_count": 11,
   "id": "a2cb950a",
   "metadata": {},
   "outputs": [],
   "source": [
    "df = df.replace({\"t\" : 1, \"f\" : 0})"
   ]
  },
  {
   "cell_type": "code",
   "execution_count": 12,
   "id": "bdb75b9b",
   "metadata": {},
   "outputs": [
    {
     "data": {
      "text/plain": [
       "P    3387\n",
       "N     291\n",
       "Name: binaryClass, dtype: int64"
      ]
     },
     "execution_count": 12,
     "metadata": {},
     "output_type": "execute_result"
    }
   ],
   "source": [
    "df[\"binaryClass\"].value_counts()"
   ]
  },
  {
   "cell_type": "code",
   "execution_count": 13,
   "id": "7f899e8b",
   "metadata": {},
   "outputs": [],
   "source": [
    "df[\"binaryClass\"] = df[\"binaryClass\"].replace({\"P\" : 1, \"N\" : 0})"
   ]
  },
  {
   "cell_type": "code",
   "execution_count": 14,
   "id": "ce6dc108",
   "metadata": {},
   "outputs": [
    {
     "data": {
      "text/plain": [
       "Index(['age', 'sex', 'on thyroxine', 'query on thyroxine',\n",
       "       'on antithyroid medication', 'sick', 'pregnant', 'thyroid surgery',\n",
       "       'I131 treatment', 'query hypothyroid', 'query hyperthyroid', 'lithium',\n",
       "       'goitre', 'tumor', 'hypopituitary', 'psych', 'TSH measured', 'TSH',\n",
       "       'T3 measured', 'T3', 'TT4 measured', 'TT4', 'T4U measured', 'T4U',\n",
       "       'FTI measured', 'FTI', 'TBG measured', 'referral source',\n",
       "       'binaryClass'],\n",
       "      dtype='object')"
      ]
     },
     "execution_count": 14,
     "metadata": {},
     "output_type": "execute_result"
    }
   ],
   "source": [
    "df.columns"
   ]
  },
  {
   "cell_type": "code",
   "execution_count": 15,
   "id": "79660859",
   "metadata": {},
   "outputs": [],
   "source": [
    "del df[\"referral source\"]"
   ]
  },
  {
   "cell_type": "code",
   "execution_count": 16,
   "id": "66db1061",
   "metadata": {},
   "outputs": [
    {
     "data": {
      "text/plain": [
       "Index(['age', 'sex', 'on thyroxine', 'query on thyroxine',\n",
       "       'on antithyroid medication', 'sick', 'pregnant', 'thyroid surgery',\n",
       "       'I131 treatment', 'query hypothyroid', 'query hyperthyroid', 'lithium',\n",
       "       'goitre', 'tumor', 'hypopituitary', 'psych', 'TSH measured', 'TSH',\n",
       "       'T3 measured', 'T3', 'TT4 measured', 'TT4', 'T4U measured', 'T4U',\n",
       "       'FTI measured', 'FTI', 'TBG measured', 'binaryClass'],\n",
       "      dtype='object')"
      ]
     },
     "execution_count": 16,
     "metadata": {},
     "output_type": "execute_result"
    }
   ],
   "source": [
    "df.columns"
   ]
  },
  {
   "cell_type": "code",
   "execution_count": 17,
   "id": "bae0499d",
   "metadata": {},
   "outputs": [
    {
     "data": {
      "text/plain": [
       "age                            1\n",
       "sex                          148\n",
       "on thyroxine                   0\n",
       "query on thyroxine             0\n",
       "on antithyroid medication      0\n",
       "sick                           0\n",
       "pregnant                       0\n",
       "thyroid surgery                0\n",
       "I131 treatment                 0\n",
       "query hypothyroid              0\n",
       "query hyperthyroid             0\n",
       "lithium                        0\n",
       "goitre                         0\n",
       "tumor                          0\n",
       "hypopituitary                  0\n",
       "psych                          0\n",
       "TSH measured                   0\n",
       "TSH                          277\n",
       "T3 measured                    0\n",
       "T3                           677\n",
       "TT4 measured                   0\n",
       "TT4                          139\n",
       "T4U measured                   0\n",
       "T4U                          295\n",
       "FTI measured                   0\n",
       "FTI                          293\n",
       "TBG measured                   0\n",
       "binaryClass                    0\n",
       "dtype: int64"
      ]
     },
     "execution_count": 17,
     "metadata": {},
     "output_type": "execute_result"
    }
   ],
   "source": [
    "df.isna().sum()"
   ]
  },
  {
   "cell_type": "code",
   "execution_count": 18,
   "id": "b47925c6",
   "metadata": {},
   "outputs": [],
   "source": [
    "df['sex'] = df['sex'].replace({\"F\" : 1, \"M\" : 0})"
   ]
  },
  {
   "cell_type": "code",
   "execution_count": 19,
   "id": "c47d31ce",
   "metadata": {},
   "outputs": [
    {
     "data": {
      "text/plain": [
       "age                           object\n",
       "sex                          float64\n",
       "on thyroxine                   int64\n",
       "query on thyroxine             int64\n",
       "on antithyroid medication      int64\n",
       "sick                           int64\n",
       "pregnant                       int64\n",
       "thyroid surgery                int64\n",
       "I131 treatment                 int64\n",
       "query hypothyroid              int64\n",
       "query hyperthyroid             int64\n",
       "lithium                        int64\n",
       "goitre                         int64\n",
       "tumor                          int64\n",
       "hypopituitary                  int64\n",
       "psych                          int64\n",
       "TSH measured                   int64\n",
       "TSH                           object\n",
       "T3 measured                    int64\n",
       "T3                            object\n",
       "TT4 measured                   int64\n",
       "TT4                           object\n",
       "T4U measured                   int64\n",
       "T4U                           object\n",
       "FTI measured                   int64\n",
       "FTI                           object\n",
       "TBG measured                   int64\n",
       "binaryClass                    int64\n",
       "dtype: object"
      ]
     },
     "execution_count": 19,
     "metadata": {},
     "output_type": "execute_result"
    }
   ],
   "source": [
    "df.dtypes"
   ]
  },
  {
   "cell_type": "code",
   "execution_count": 20,
   "id": "e9753046",
   "metadata": {},
   "outputs": [
    {
     "data": {
      "text/plain": [
       "59     95\n",
       "60     89\n",
       "70     87\n",
       "73     81\n",
       "55     78\n",
       "       ..\n",
       "455     1\n",
       "4       1\n",
       "10      1\n",
       "6       1\n",
       "5       1\n",
       "Name: age, Length: 93, dtype: int64"
      ]
     },
     "execution_count": 20,
     "metadata": {},
     "output_type": "execute_result"
    }
   ],
   "source": [
    "df['age'].value_counts()"
   ]
  },
  {
   "cell_type": "code",
   "execution_count": 21,
   "id": "ac8618e3",
   "metadata": {},
   "outputs": [
    {
     "data": {
      "text/plain": [
       "age                          float64\n",
       "sex                          float64\n",
       "on thyroxine                   int64\n",
       "query on thyroxine             int64\n",
       "on antithyroid medication      int64\n",
       "sick                           int64\n",
       "pregnant                       int64\n",
       "thyroid surgery                int64\n",
       "I131 treatment                 int64\n",
       "query hypothyroid              int64\n",
       "query hyperthyroid             int64\n",
       "lithium                        int64\n",
       "goitre                         int64\n",
       "tumor                          int64\n",
       "hypopituitary                  int64\n",
       "psych                          int64\n",
       "TSH measured                   int64\n",
       "TSH                          float64\n",
       "T3 measured                    int64\n",
       "T3                           float64\n",
       "TT4 measured                   int64\n",
       "TT4                          float64\n",
       "T4U measured                   int64\n",
       "T4U                          float64\n",
       "FTI measured                   int64\n",
       "FTI                          float64\n",
       "TBG measured                   int64\n",
       "binaryClass                    int64\n",
       "dtype: object"
      ]
     },
     "execution_count": 21,
     "metadata": {},
     "output_type": "execute_result"
    }
   ],
   "source": [
    "cols = df.columns[df.dtypes.eq('object')]\n",
    "df[cols] = df[cols].apply(pd.to_numeric, errors='coerce')\n",
    "df.dtypes"
   ]
  },
  {
   "cell_type": "code",
   "execution_count": 22,
   "id": "7d80e01f",
   "metadata": {},
   "outputs": [
    {
     "data": {
      "text/plain": [
       "age                            1\n",
       "sex                          148\n",
       "on thyroxine                   0\n",
       "query on thyroxine             0\n",
       "on antithyroid medication      0\n",
       "sick                           0\n",
       "pregnant                       0\n",
       "thyroid surgery                0\n",
       "I131 treatment                 0\n",
       "query hypothyroid              0\n",
       "query hyperthyroid             0\n",
       "lithium                        0\n",
       "goitre                         0\n",
       "tumor                          0\n",
       "hypopituitary                  0\n",
       "psych                          0\n",
       "TSH measured                   0\n",
       "TSH                          277\n",
       "T3 measured                    0\n",
       "T3                           677\n",
       "TT4 measured                   0\n",
       "TT4                          139\n",
       "T4U measured                   0\n",
       "T4U                          295\n",
       "FTI measured                   0\n",
       "FTI                          293\n",
       "TBG measured                   0\n",
       "binaryClass                    0\n",
       "dtype: int64"
      ]
     },
     "execution_count": 22,
     "metadata": {},
     "output_type": "execute_result"
    }
   ],
   "source": [
    "df.isna().sum()"
   ]
  },
  {
   "cell_type": "code",
   "execution_count": 23,
   "id": "aa0d3183",
   "metadata": {},
   "outputs": [],
   "source": [
    "df.dropna(axis = 0, thresh = 20, inplace = True)"
   ]
  },
  {
   "cell_type": "code",
   "execution_count": 24,
   "id": "de80da5e",
   "metadata": {},
   "outputs": [
    {
     "data": {
      "text/plain": [
       "age                            1\n",
       "sex                          148\n",
       "on thyroxine                   0\n",
       "query on thyroxine             0\n",
       "on antithyroid medication      0\n",
       "sick                           0\n",
       "pregnant                       0\n",
       "thyroid surgery                0\n",
       "I131 treatment                 0\n",
       "query hypothyroid              0\n",
       "query hyperthyroid             0\n",
       "lithium                        0\n",
       "goitre                         0\n",
       "tumor                          0\n",
       "hypopituitary                  0\n",
       "psych                          0\n",
       "TSH measured                   0\n",
       "TSH                          277\n",
       "T3 measured                    0\n",
       "T3                           677\n",
       "TT4 measured                   0\n",
       "TT4                          139\n",
       "T4U measured                   0\n",
       "T4U                          295\n",
       "FTI measured                   0\n",
       "FTI                          293\n",
       "TBG measured                   0\n",
       "binaryClass                    0\n",
       "dtype: int64"
      ]
     },
     "execution_count": 24,
     "metadata": {},
     "output_type": "execute_result"
    }
   ],
   "source": [
    "df.isna().sum()"
   ]
  },
  {
   "cell_type": "code",
   "execution_count": 25,
   "id": "e92d3413",
   "metadata": {},
   "outputs": [
    {
     "data": {
      "text/plain": [
       "age                          0\n",
       "sex                          0\n",
       "on thyroxine                 0\n",
       "query on thyroxine           0\n",
       "on antithyroid medication    0\n",
       "sick                         0\n",
       "pregnant                     0\n",
       "thyroid surgery              0\n",
       "I131 treatment               0\n",
       "query hypothyroid            0\n",
       "query hyperthyroid           0\n",
       "lithium                      0\n",
       "goitre                       0\n",
       "tumor                        0\n",
       "hypopituitary                0\n",
       "psych                        0\n",
       "TSH measured                 0\n",
       "TSH                          0\n",
       "T3 measured                  0\n",
       "T3                           0\n",
       "TT4 measured                 0\n",
       "TT4                          0\n",
       "T4U measured                 0\n",
       "T4U                          0\n",
       "FTI measured                 0\n",
       "FTI                          0\n",
       "TBG measured                 0\n",
       "binaryClass                  0\n",
       "dtype: int64"
      ]
     },
     "execution_count": 25,
     "metadata": {},
     "output_type": "execute_result"
    }
   ],
   "source": [
    "df = df.interpolate(method = 'spline', order = 3)\n",
    "df.isna().sum()"
   ]
  },
  {
   "cell_type": "code",
   "execution_count": 26,
   "id": "bc079488",
   "metadata": {},
   "outputs": [
    {
     "data": {
      "text/plain": [
       "1    3387\n",
       "0     291\n",
       "Name: binaryClass, dtype: int64"
      ]
     },
     "execution_count": 26,
     "metadata": {},
     "output_type": "execute_result"
    }
   ],
   "source": [
    "df['binaryClass'].value_counts()"
   ]
  },
  {
   "cell_type": "code",
   "execution_count": 27,
   "id": "25a7b852",
   "metadata": {},
   "outputs": [
    {
     "data": {
      "text/plain": [
       "Index(['age', 'sex', 'on thyroxine', 'query on thyroxine',\n",
       "       'on antithyroid medication', 'sick', 'pregnant', 'thyroid surgery',\n",
       "       'I131 treatment', 'query hypothyroid', 'query hyperthyroid', 'lithium',\n",
       "       'goitre', 'tumor', 'hypopituitary', 'psych', 'TSH measured', 'TSH',\n",
       "       'T3 measured', 'T3', 'TT4 measured', 'TT4', 'T4U measured', 'T4U',\n",
       "       'FTI measured', 'FTI', 'TBG measured', 'binaryClass'],\n",
       "      dtype='object')"
      ]
     },
     "execution_count": 27,
     "metadata": {},
     "output_type": "execute_result"
    }
   ],
   "source": [
    "df.columns"
   ]
  },
  {
   "cell_type": "code",
   "execution_count": 28,
   "id": "b819e893",
   "metadata": {},
   "outputs": [
    {
     "data": {
      "text/plain": [
       "age                          float64\n",
       "sex                          float64\n",
       "on thyroxine                   int64\n",
       "query on thyroxine             int64\n",
       "on antithyroid medication      int64\n",
       "sick                           int64\n",
       "pregnant                       int64\n",
       "thyroid surgery                int64\n",
       "I131 treatment                 int64\n",
       "query hypothyroid              int64\n",
       "query hyperthyroid             int64\n",
       "lithium                        int64\n",
       "goitre                         int64\n",
       "tumor                          int64\n",
       "hypopituitary                  int64\n",
       "psych                          int64\n",
       "TSH measured                   int64\n",
       "TSH                          float64\n",
       "T3 measured                    int64\n",
       "T3                           float64\n",
       "TT4 measured                   int64\n",
       "TT4                          float64\n",
       "T4U measured                   int64\n",
       "T4U                          float64\n",
       "FTI measured                   int64\n",
       "FTI                          float64\n",
       "TBG measured                   int64\n",
       "binaryClass                    int64\n",
       "dtype: object"
      ]
     },
     "execution_count": 28,
     "metadata": {},
     "output_type": "execute_result"
    }
   ],
   "source": [
    "df.dtypes"
   ]
  },
  {
   "cell_type": "code",
   "execution_count": 29,
   "id": "a627004e",
   "metadata": {},
   "outputs": [],
   "source": [
    "df['age'] = df['age'].astype(int)\n",
    "df['sex'] = df['sex'].astype(int)\n",
    "df['TSH'] = df['TSH'].astype(int)\n",
    "df['T3'] = df['T3'].astype(int)\n",
    "df['TT4'] = df['TT4'].astype(int)\n",
    "df['T4U'] = df['T4U'].astype(int)\n",
    "df['FTI'] = df['FTI'].astype(int)"
   ]
  },
  {
   "cell_type": "code",
   "execution_count": 30,
   "id": "2e49f13c",
   "metadata": {},
   "outputs": [
    {
     "name": "stdout",
     "output_type": "stream",
     "text": [
      "<class 'pandas.core.frame.DataFrame'>\n",
      "Int64Index: 3678 entries, 0 to 3771\n",
      "Data columns (total 28 columns):\n",
      " #   Column                     Non-Null Count  Dtype\n",
      "---  ------                     --------------  -----\n",
      " 0   age                        3678 non-null   int32\n",
      " 1   sex                        3678 non-null   int32\n",
      " 2   on thyroxine               3678 non-null   int64\n",
      " 3   query on thyroxine         3678 non-null   int64\n",
      " 4   on antithyroid medication  3678 non-null   int64\n",
      " 5   sick                       3678 non-null   int64\n",
      " 6   pregnant                   3678 non-null   int64\n",
      " 7   thyroid surgery            3678 non-null   int64\n",
      " 8   I131 treatment             3678 non-null   int64\n",
      " 9   query hypothyroid          3678 non-null   int64\n",
      " 10  query hyperthyroid         3678 non-null   int64\n",
      " 11  lithium                    3678 non-null   int64\n",
      " 12  goitre                     3678 non-null   int64\n",
      " 13  tumor                      3678 non-null   int64\n",
      " 14  hypopituitary              3678 non-null   int64\n",
      " 15  psych                      3678 non-null   int64\n",
      " 16  TSH measured               3678 non-null   int64\n",
      " 17  TSH                        3678 non-null   int32\n",
      " 18  T3 measured                3678 non-null   int64\n",
      " 19  T3                         3678 non-null   int32\n",
      " 20  TT4 measured               3678 non-null   int64\n",
      " 21  TT4                        3678 non-null   int32\n",
      " 22  T4U measured               3678 non-null   int64\n",
      " 23  T4U                        3678 non-null   int32\n",
      " 24  FTI measured               3678 non-null   int64\n",
      " 25  FTI                        3678 non-null   int32\n",
      " 26  TBG measured               3678 non-null   int64\n",
      " 27  binaryClass                3678 non-null   int64\n",
      "dtypes: int32(7), int64(21)\n",
      "memory usage: 732.7 KB\n"
     ]
    }
   ],
   "source": [
    "df.info()"
   ]
  },
  {
   "cell_type": "code",
   "execution_count": 31,
   "id": "ea2f5584",
   "metadata": {},
   "outputs": [],
   "source": [
    "df.to_csv(\"cleaned_data.csv\", index = False)"
   ]
  },
  {
   "cell_type": "code",
   "execution_count": 32,
   "id": "9fe71679",
   "metadata": {},
   "outputs": [],
   "source": [
    "df1 = pd.read_csv(\"cleaned_data.csv\")"
   ]
  },
  {
   "cell_type": "code",
   "execution_count": 33,
   "id": "32b449ed",
   "metadata": {},
   "outputs": [
    {
     "data": {
      "text/plain": [
       "(3678, 28)"
      ]
     },
     "execution_count": 33,
     "metadata": {},
     "output_type": "execute_result"
    }
   ],
   "source": [
    "df.shape"
   ]
  },
  {
   "cell_type": "code",
   "execution_count": 34,
   "id": "bdce833e",
   "metadata": {},
   "outputs": [
    {
     "data": {
      "text/html": [
       "<div>\n",
       "<style scoped>\n",
       "    .dataframe tbody tr th:only-of-type {\n",
       "        vertical-align: middle;\n",
       "    }\n",
       "\n",
       "    .dataframe tbody tr th {\n",
       "        vertical-align: top;\n",
       "    }\n",
       "\n",
       "    .dataframe thead th {\n",
       "        text-align: right;\n",
       "    }\n",
       "</style>\n",
       "<table border=\"1\" class=\"dataframe\">\n",
       "  <thead>\n",
       "    <tr style=\"text-align: right;\">\n",
       "      <th></th>\n",
       "      <th>age</th>\n",
       "      <th>sex</th>\n",
       "      <th>on thyroxine</th>\n",
       "      <th>query on thyroxine</th>\n",
       "      <th>on antithyroid medication</th>\n",
       "      <th>sick</th>\n",
       "      <th>pregnant</th>\n",
       "      <th>thyroid surgery</th>\n",
       "      <th>I131 treatment</th>\n",
       "      <th>query hypothyroid</th>\n",
       "      <th>...</th>\n",
       "      <th>T3 measured</th>\n",
       "      <th>T3</th>\n",
       "      <th>TT4 measured</th>\n",
       "      <th>TT4</th>\n",
       "      <th>T4U measured</th>\n",
       "      <th>T4U</th>\n",
       "      <th>FTI measured</th>\n",
       "      <th>FTI</th>\n",
       "      <th>TBG measured</th>\n",
       "      <th>binaryClass</th>\n",
       "    </tr>\n",
       "  </thead>\n",
       "  <tbody>\n",
       "    <tr>\n",
       "      <th>0</th>\n",
       "      <td>41</td>\n",
       "      <td>1</td>\n",
       "      <td>0</td>\n",
       "      <td>0</td>\n",
       "      <td>0</td>\n",
       "      <td>0</td>\n",
       "      <td>0</td>\n",
       "      <td>0</td>\n",
       "      <td>0</td>\n",
       "      <td>0</td>\n",
       "      <td>...</td>\n",
       "      <td>1</td>\n",
       "      <td>2</td>\n",
       "      <td>1</td>\n",
       "      <td>125</td>\n",
       "      <td>1</td>\n",
       "      <td>1</td>\n",
       "      <td>1</td>\n",
       "      <td>109</td>\n",
       "      <td>0</td>\n",
       "      <td>1</td>\n",
       "    </tr>\n",
       "    <tr>\n",
       "      <th>1</th>\n",
       "      <td>23</td>\n",
       "      <td>1</td>\n",
       "      <td>0</td>\n",
       "      <td>0</td>\n",
       "      <td>0</td>\n",
       "      <td>0</td>\n",
       "      <td>0</td>\n",
       "      <td>0</td>\n",
       "      <td>0</td>\n",
       "      <td>0</td>\n",
       "      <td>...</td>\n",
       "      <td>1</td>\n",
       "      <td>2</td>\n",
       "      <td>1</td>\n",
       "      <td>102</td>\n",
       "      <td>0</td>\n",
       "      <td>0</td>\n",
       "      <td>0</td>\n",
       "      <td>163</td>\n",
       "      <td>0</td>\n",
       "      <td>1</td>\n",
       "    </tr>\n",
       "    <tr>\n",
       "      <th>2</th>\n",
       "      <td>46</td>\n",
       "      <td>0</td>\n",
       "      <td>0</td>\n",
       "      <td>0</td>\n",
       "      <td>0</td>\n",
       "      <td>0</td>\n",
       "      <td>0</td>\n",
       "      <td>0</td>\n",
       "      <td>0</td>\n",
       "      <td>0</td>\n",
       "      <td>...</td>\n",
       "      <td>0</td>\n",
       "      <td>1</td>\n",
       "      <td>1</td>\n",
       "      <td>109</td>\n",
       "      <td>1</td>\n",
       "      <td>0</td>\n",
       "      <td>1</td>\n",
       "      <td>120</td>\n",
       "      <td>0</td>\n",
       "      <td>1</td>\n",
       "    </tr>\n",
       "    <tr>\n",
       "      <th>3</th>\n",
       "      <td>70</td>\n",
       "      <td>1</td>\n",
       "      <td>1</td>\n",
       "      <td>0</td>\n",
       "      <td>0</td>\n",
       "      <td>0</td>\n",
       "      <td>0</td>\n",
       "      <td>0</td>\n",
       "      <td>0</td>\n",
       "      <td>0</td>\n",
       "      <td>...</td>\n",
       "      <td>1</td>\n",
       "      <td>1</td>\n",
       "      <td>1</td>\n",
       "      <td>175</td>\n",
       "      <td>0</td>\n",
       "      <td>0</td>\n",
       "      <td>0</td>\n",
       "      <td>61</td>\n",
       "      <td>0</td>\n",
       "      <td>1</td>\n",
       "    </tr>\n",
       "    <tr>\n",
       "      <th>4</th>\n",
       "      <td>70</td>\n",
       "      <td>1</td>\n",
       "      <td>0</td>\n",
       "      <td>0</td>\n",
       "      <td>0</td>\n",
       "      <td>0</td>\n",
       "      <td>0</td>\n",
       "      <td>0</td>\n",
       "      <td>0</td>\n",
       "      <td>0</td>\n",
       "      <td>...</td>\n",
       "      <td>1</td>\n",
       "      <td>1</td>\n",
       "      <td>1</td>\n",
       "      <td>61</td>\n",
       "      <td>1</td>\n",
       "      <td>0</td>\n",
       "      <td>1</td>\n",
       "      <td>70</td>\n",
       "      <td>0</td>\n",
       "      <td>1</td>\n",
       "    </tr>\n",
       "  </tbody>\n",
       "</table>\n",
       "<p>5 rows × 28 columns</p>\n",
       "</div>"
      ],
      "text/plain": [
       "   age  sex  on thyroxine  query on thyroxine  on antithyroid medication  \\\n",
       "0   41    1             0                   0                          0   \n",
       "1   23    1             0                   0                          0   \n",
       "2   46    0             0                   0                          0   \n",
       "3   70    1             1                   0                          0   \n",
       "4   70    1             0                   0                          0   \n",
       "\n",
       "   sick  pregnant  thyroid surgery  I131 treatment  query hypothyroid  ...  \\\n",
       "0     0         0                0               0                  0  ...   \n",
       "1     0         0                0               0                  0  ...   \n",
       "2     0         0                0               0                  0  ...   \n",
       "3     0         0                0               0                  0  ...   \n",
       "4     0         0                0               0                  0  ...   \n",
       "\n",
       "   T3 measured  T3  TT4 measured  TT4  T4U measured  T4U  FTI measured  FTI  \\\n",
       "0            1   2             1  125             1    1             1  109   \n",
       "1            1   2             1  102             0    0             0  163   \n",
       "2            0   1             1  109             1    0             1  120   \n",
       "3            1   1             1  175             0    0             0   61   \n",
       "4            1   1             1   61             1    0             1   70   \n",
       "\n",
       "   TBG measured  binaryClass  \n",
       "0             0            1  \n",
       "1             0            1  \n",
       "2             0            1  \n",
       "3             0            1  \n",
       "4             0            1  \n",
       "\n",
       "[5 rows x 28 columns]"
      ]
     },
     "execution_count": 34,
     "metadata": {},
     "output_type": "execute_result"
    }
   ],
   "source": [
    "df1.head()"
   ]
  },
  {
   "cell_type": "code",
   "execution_count": 35,
   "id": "3066f082",
   "metadata": {},
   "outputs": [],
   "source": [
    "X = df1.drop(columns=\"binaryClass\", axis = 1)\n",
    "Y = df1['binaryClass']"
   ]
  },
  {
   "cell_type": "code",
   "execution_count": 39,
   "id": "1b7d7605",
   "metadata": {},
   "outputs": [
    {
     "name": "stdout",
     "output_type": "stream",
     "text": [
      "Index(['age', 'sex', 'on thyroxine', 'query on thyroxine',\n",
      "       'on antithyroid medication', 'sick', 'pregnant', 'thyroid surgery',\n",
      "       'I131 treatment', 'query hypothyroid', 'query hyperthyroid', 'lithium',\n",
      "       'goitre', 'tumor', 'hypopituitary', 'psych', 'TSH measured', 'TSH',\n",
      "       'T3 measured', 'T3', 'TT4 measured', 'TT4', 'T4U measured', 'T4U',\n",
      "       'FTI measured', 'FTI', 'TBG measured'],\n",
      "      dtype='object')\n"
     ]
    }
   ],
   "source": [
    "print(X.columns)"
   ]
  },
  {
   "cell_type": "code",
   "execution_count": 41,
   "id": "9c6f1920",
   "metadata": {},
   "outputs": [
    {
     "name": "stdout",
     "output_type": "stream",
     "text": [
      "0       1\n",
      "1       1\n",
      "2       1\n",
      "3       1\n",
      "4       1\n",
      "       ..\n",
      "3673    1\n",
      "3674    1\n",
      "3675    1\n",
      "3676    1\n",
      "3677    1\n",
      "Name: binaryClass, Length: 3678, dtype: int64\n"
     ]
    }
   ],
   "source": [
    "print(Y)"
   ]
  },
  {
   "cell_type": "code",
   "execution_count": 42,
   "id": "942967f9",
   "metadata": {},
   "outputs": [],
   "source": [
    "from sklearn.model_selection import train_test_split"
   ]
  },
  {
   "cell_type": "code",
   "execution_count": 43,
   "id": "f426adf0",
   "metadata": {},
   "outputs": [],
   "source": [
    "X_train, X_test, Y_train, Y_test = train_test_split(X, Y, test_size=0.2, stratify = Y, random_state = 2)"
   ]
  },
  {
   "cell_type": "code",
   "execution_count": 44,
   "id": "19fe63a9",
   "metadata": {},
   "outputs": [
    {
     "name": "stdout",
     "output_type": "stream",
     "text": [
      "(3678, 27) (2942, 27) (736, 27)\n"
     ]
    }
   ],
   "source": [
    "print(X.shape, X_train.shape, X_test.shape)"
   ]
  },
  {
   "cell_type": "code",
   "execution_count": 45,
   "id": "05f89ed1",
   "metadata": {},
   "outputs": [],
   "source": [
    "from sklearn.linear_model import LogisticRegression\n",
    "from sklearn.metrics import accuracy_score"
   ]
  },
  {
   "cell_type": "code",
   "execution_count": 46,
   "id": "180855d3",
   "metadata": {},
   "outputs": [],
   "source": [
    "model = LogisticRegression()"
   ]
  },
  {
   "cell_type": "code",
   "execution_count": 47,
   "id": "47a80848",
   "metadata": {},
   "outputs": [
    {
     "name": "stderr",
     "output_type": "stream",
     "text": [
      "C:\\Users\\sures\\anaconda3\\lib\\site-packages\\sklearn\\linear_model\\_logistic.py:763: ConvergenceWarning: lbfgs failed to converge (status=1):\n",
      "STOP: TOTAL NO. of ITERATIONS REACHED LIMIT.\n",
      "\n",
      "Increase the number of iterations (max_iter) or scale the data as shown in:\n",
      "    https://scikit-learn.org/stable/modules/preprocessing.html\n",
      "Please also refer to the documentation for alternative solver options:\n",
      "    https://scikit-learn.org/stable/modules/linear_model.html#logistic-regression\n",
      "  n_iter_i = _check_optimize_result(\n"
     ]
    },
    {
     "data": {
      "text/plain": [
       "LogisticRegression()"
      ]
     },
     "execution_count": 47,
     "metadata": {},
     "output_type": "execute_result"
    }
   ],
   "source": [
    "model.fit(X_train, Y_train)"
   ]
  },
  {
   "cell_type": "code",
   "execution_count": 48,
   "id": "8594762e",
   "metadata": {},
   "outputs": [],
   "source": [
    "train_prediction = model.predict(X_train)\n",
    "train_accuracy = accuracy_score(train_prediction, Y_train)"
   ]
  },
  {
   "cell_type": "code",
   "execution_count": 49,
   "id": "192f7b52",
   "metadata": {},
   "outputs": [
    {
     "name": "stdout",
     "output_type": "stream",
     "text": [
      "0.9510537049626104\n"
     ]
    }
   ],
   "source": [
    "print(train_accuracy)"
   ]
  },
  {
   "cell_type": "code",
   "execution_count": 50,
   "id": "61c272a1",
   "metadata": {},
   "outputs": [],
   "source": [
    "test_prediction = model.predict(X_test)\n",
    "test_accuracy = accuracy_score(test_prediction, Y_test)"
   ]
  },
  {
   "cell_type": "code",
   "execution_count": 51,
   "id": "c9441f89",
   "metadata": {},
   "outputs": [
    {
     "name": "stdout",
     "output_type": "stream",
     "text": [
      "0.9551630434782609\n"
     ]
    }
   ],
   "source": [
    "print(test_accuracy)"
   ]
  },
  {
   "cell_type": "code",
   "execution_count": null,
   "id": "9a93b013",
   "metadata": {},
   "outputs": [],
   "source": []
  },
  {
   "cell_type": "code",
   "execution_count": null,
   "id": "b318158c",
   "metadata": {},
   "outputs": [],
   "source": []
  },
  {
   "cell_type": "code",
   "execution_count": null,
   "id": "caa73833",
   "metadata": {},
   "outputs": [],
   "source": []
  },
  {
   "cell_type": "code",
   "execution_count": null,
   "id": "388ef74a",
   "metadata": {},
   "outputs": [],
   "source": []
  },
  {
   "cell_type": "code",
   "execution_count": 62,
   "id": "ec230341",
   "metadata": {},
   "outputs": [
    {
     "name": "stdout",
     "output_type": "stream",
     "text": [
      "The person have the throid disease\n"
     ]
    }
   ],
   "source": [
    "input_data = (65,1,0,0,0,0,0,0,0,1,0,0,0,0,0,0,1,12,1,0,1,99,1,1,1,87,0)\n",
    "\n",
    "input_data_as_numpy_array = np.asarray(input_data)\n",
    "\n",
    "input_data_reshaped = input_data_as_numpy_array.reshape(1, -1)\n",
    "\n",
    "prediction = model.predict(input_data_reshaped)\n",
    "\n",
    "if(prediction[0] == 0):\n",
    "    print(\"The person does not have any thyroid disease\")\n",
    "else:\n",
    "    print(\"The person have the throid disease\")"
   ]
  },
  {
   "cell_type": "code",
   "execution_count": null,
   "id": "a9d36a67",
   "metadata": {},
   "outputs": [],
   "source": []
  }
 ],
 "metadata": {
  "kernelspec": {
   "display_name": "Python 3",
   "language": "python",
   "name": "python3"
  },
  "language_info": {
   "codemirror_mode": {
    "name": "ipython",
    "version": 3
   },
   "file_extension": ".py",
   "mimetype": "text/x-python",
   "name": "python",
   "nbconvert_exporter": "python",
   "pygments_lexer": "ipython3",
   "version": "3.8.8"
  }
 },
 "nbformat": 4,
 "nbformat_minor": 5
}
