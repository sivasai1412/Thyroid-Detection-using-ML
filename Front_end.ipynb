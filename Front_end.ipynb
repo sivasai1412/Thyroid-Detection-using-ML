{
 "cells": [
  {
   "cell_type": "code",
   "execution_count": 1,
   "id": "2bf902bd",
   "metadata": {},
   "outputs": [],
   "source": [
    "import numpy as np\n",
    "import pandas as pd"
   ]
  },
  {
   "cell_type": "code",
   "execution_count": 2,
   "id": "c544a680",
   "metadata": {},
   "outputs": [
    {
     "data": {
      "text/plain": [
       "(3678, 15)"
      ]
     },
     "execution_count": 2,
     "metadata": {},
     "output_type": "execute_result"
    }
   ],
   "source": [
    "df = pd.read_csv('clean_data.csv')\n",
    "df.shape"
   ]
  },
  {
   "cell_type": "code",
   "execution_count": 3,
   "id": "dc027b8d",
   "metadata": {},
   "outputs": [],
   "source": [
    "X = df.drop(columns=\"binaryClass\", axis = 1)\n",
    "Y = df['binaryClass']"
   ]
  },
  {
   "cell_type": "code",
   "execution_count": 4,
   "id": "1bb007a4",
   "metadata": {},
   "outputs": [],
   "source": [
    "from sklearn.model_selection import train_test_split\n",
    "X_train, X_test, Y_train, Y_test = train_test_split(X, Y, test_size=0.2, stratify = Y, random_state = 2)"
   ]
  },
  {
   "cell_type": "code",
   "execution_count": 7,
   "id": "c1799399",
   "metadata": {},
   "outputs": [],
   "source": [
    "from sklearn.preprocessing import StandardScaler\n",
    "sc = StandardScaler()\n",
    "sc.fit(X_train)\n",
    "X_train = sc.transform(X_train)\n",
    "X_test = sc.transform(X_test)"
   ]
  },
  {
   "cell_type": "code",
   "execution_count": 8,
   "id": "d6a090ae",
   "metadata": {},
   "outputs": [
    {
     "data": {
      "text/plain": [
       "RandomForestClassifier()"
      ]
     },
     "execution_count": 8,
     "metadata": {},
     "output_type": "execute_result"
    }
   ],
   "source": [
    "from sklearn.ensemble import RandomForestClassifier\n",
    "rfc = RandomForestClassifier()\n",
    "rfc.fit(X_train, Y_train)"
   ]
  },
  {
   "cell_type": "code",
   "execution_count": 9,
   "id": "050ac2d3",
   "metadata": {},
   "outputs": [
    {
     "data": {
      "text/plain": [
       "Index(['age', 'sex', 'on thyroxine', 'sick', 'thyroid surgery',\n",
       "       'I131 treatment', 'query hypothyroid', 'query hyperthyroid', 'goitre',\n",
       "       'TSH', 'T3', 'TT4', 'T4U', 'FTI', 'binaryClass'],\n",
       "      dtype='object')"
      ]
     },
     "execution_count": 9,
     "metadata": {},
     "output_type": "execute_result"
    }
   ],
   "source": [
    "df.columns"
   ]
  },
  {
   "cell_type": "code",
   "execution_count": 12,
   "id": "d11809c5",
   "metadata": {},
   "outputs": [],
   "source": [
    "def predict_output(model, age, sex, on_thyroxine, sick, thyroid_surgery, I131_treatment, query_hypothyroid, query_hyperthyroid, goitre, TSH, T3, TT4, T4U, FTI):\n",
    "    x = np.zeros(len(X.columns))\n",
    "    \n",
    "    x[0] = age\n",
    "    x[1] = sex\n",
    "    x[2] = on_thyroxine\n",
    "    x[3] = sick\n",
    "    x[4] = thyroid_surgery\n",
    "    x[5] = I131_treatment\n",
    "    x[6] = query_hypothyroid\n",
    "    x[7] = query_hyperthyroid\n",
    "    x[8] = goitre\n",
    "    x[9] = TSH\n",
    "    x[10] = T3\n",
    "    x[11] = TT4\n",
    "    x[12] = T4U\n",
    "    x[13] = FTI\n",
    "    \n",
    "    x = sc.transform([x])[0]\n",
    "    \n",
    "    return model.predict([x])[0]"
   ]
  },
  {
   "cell_type": "code",
   "execution_count": 14,
   "id": "0df3b3a3",
   "metadata": {},
   "outputs": [
    {
     "data": {
      "text/plain": [
       "0"
      ]
     },
     "execution_count": 14,
     "metadata": {},
     "output_type": "execute_result"
    }
   ],
   "source": [
    "predict_output(model=rfc, age = 44, sex = 0, on_thyroxine = 0, sick = 0, thyroid_surgery = 0, I131_treatment = 0, query_hypothyroid = 0, query_hyperthyroid = 0, goitre = 1, TSH = 45, T3 = 1, TT4 = 139, T4U = 101, FTI = 33)"
   ]
  },
  {
   "cell_type": "code",
   "execution_count": 15,
   "id": "29602143",
   "metadata": {},
   "outputs": [
    {
     "data": {
      "text/plain": [
       "['RandomForestClassifierModel.pkl']"
      ]
     },
     "execution_count": 15,
     "metadata": {},
     "output_type": "execute_result"
    }
   ],
   "source": [
    "import joblib\n",
    "joblib.dump(rfc, 'RandomForestClassifierModel.pkl')"
   ]
  },
  {
   "cell_type": "code",
   "execution_count": 16,
   "id": "25eb6754",
   "metadata": {},
   "outputs": [],
   "source": [
    "RandomForestClassifierModel = joblib.load('RandomForestClassifierModel.pkl')"
   ]
  },
  {
   "cell_type": "code",
   "execution_count": 17,
   "id": "600e8cfa",
   "metadata": {},
   "outputs": [
    {
     "data": {
      "text/plain": [
       "0"
      ]
     },
     "execution_count": 17,
     "metadata": {},
     "output_type": "execute_result"
    }
   ],
   "source": [
    "predict_output(RandomForestClassifierModel,  age = 44, sex = 0, on_thyroxine = 0, sick = 0, thyroid_surgery = 0, I131_treatment = 0, query_hypothyroid = 0, query_hyperthyroid = 0, goitre = 1, TSH = 45, T3 = 1, TT4 = 139, T4U = 101, FTI = 33)"
   ]
  },
  {
   "cell_type": "code",
   "execution_count": null,
   "id": "28a04931",
   "metadata": {},
   "outputs": [],
   "source": []
  }
 ],
 "metadata": {
  "kernelspec": {
   "display_name": "Python 3",
   "language": "python",
   "name": "python3"
  },
  "language_info": {
   "codemirror_mode": {
    "name": "ipython",
    "version": 3
   },
   "file_extension": ".py",
   "mimetype": "text/x-python",
   "name": "python",
   "nbconvert_exporter": "python",
   "pygments_lexer": "ipython3",
   "version": "3.8.8"
  }
 },
 "nbformat": 4,
 "nbformat_minor": 5
}
